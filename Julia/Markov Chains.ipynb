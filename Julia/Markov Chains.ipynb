{
 "cells": [
  {
   "cell_type": "code",
   "execution_count": 3,
   "metadata": {},
   "outputs": [
    {
     "data": {
      "text/plain": [
       "5-element Array{Int64,1}:\n",
       " 1\n",
       " 2\n",
       " 2\n",
       " 1\n",
       " 1"
      ]
     },
     "execution_count": 3,
     "metadata": {},
     "output_type": "execute_result"
    }
   ],
   "source": [
    "#this is where we do markov chain exercises\n",
    "\n",
    "#we need a way to draw from discrete distributions so we do this\n",
    "\n",
    "using QuantEcon\n",
    "\n",
    "#just a qucik test\n",
    "psi = [0.1, 0.9]\n",
    "d = DiscreteRV(psi)\n",
    "rand(d,5)\n"
   ]
  },
  {
   "cell_type": "code",
   "execution_count": 10,
   "metadata": {},
   "outputs": [
    {
     "name": "stderr",
     "output_type": "stream",
     "text": [
      "WARNING: Method definition mc_sample_path(Any) in module Main at In[8]:4 overwritten at In[10]:4.\n",
      "WARNING: Method definition #mc_sample_path(Array{Any, 1}, Main.#mc_sample_path, Any) in module Main overwritten.\n"
     ]
    },
    {
     "data": {
      "text/plain": [
       "mc_sample_path (generic function with 3 methods)"
      ]
     },
     "execution_count": 10,
     "metadata": {},
     "output_type": "execute_result"
    }
   ],
   "source": [
    "function mc_sample_path(P; init=1, sample_size=1000)\n",
    "    #P is our stochastic matrix. Our initial state is init, our sample_size i\n",
    "    #is the number of time steps the chain should run\n",
    "    X = Array{Int64}(sample_size) # we allocate our array\n",
    "    X[1] = init # our initial state. \n",
    "    #X is the array of all our states\n",
    "    \n",
    "    #we convert our P into a distibution for each row\n",
    "    n = size(P)[1]\n",
    "    P_dist = [DiscreteRV(vec(P[i,:])) for i in 1:n]\n",
    "    \n",
    "    #we now generate the sample path\n",
    "    for t in 1:(sample_size-1)\n",
    "        X[t+1]= rand(P_dist[X[t]])\n",
    "    end\n",
    "    return X\n",
    "end\n",
    "#so we've got to figure out how this works in the small scale ideally.\n",
    "#it's mostly the matrix operations which I don't get atm... argh\n",
    "# at least it doesn't have to be vectorised so differential equatiosn and MCs\n",
    "# work out okay which is good! so we can do loops and simulatoins efficiently\n",
    "# which is it's main advantageover python tbh"
   ]
  },
  {
   "cell_type": "code",
   "execution_count": 14,
   "metadata": {},
   "outputs": [
    {
     "name": "stdout",
     "output_type": "stream",
     "text": [
      "done[1,1,2,2,2,1,2,2,2,2]\n"
     ]
    }
   ],
   "source": [
    "#we now try it out on a simple matrix\n",
    "\n",
    "P = [0.4 0.6; 0.2 0.8]\n",
    "X = mc_sample_path(P, sample_size = 10);\n",
    "print(\"done\")\n",
    "println(X)\n"
   ]
  },
  {
   "cell_type": "code",
   "execution_count": 16,
   "metadata": {},
   "outputs": [
    {
     "name": "stdout",
     "output_type": "stream",
     "text": [
      "0.3\n"
     ]
    }
   ],
   "source": [
    "#we now simulate fora long time to see the chain and get the mean\n",
    "Y =mc_sample_path(P, sample_size=100000)\n",
    "println(mean(X .==1))"
   ]
  },
  {
   "cell_type": "code",
   "execution_count": 17,
   "metadata": {},
   "outputs": [
    {
     "data": {
      "text/html": [
       "0.25024"
      ],
      "text/plain": [
       "0.25024"
      ]
     },
     "execution_count": 17,
     "metadata": {},
     "output_type": "execute_result"
    }
   ],
   "source": [
    "# we can lso use quant econ directly to handle our markov chain\n",
    "# whic hprobably has the same rough function, but vastly better as it's a library\n",
    "# functoin which makes sense adn is cool\n",
    "\n",
    "mc = MarkovChain(P)\n",
    "X = simulate(mc, 100000)\n",
    "mean(X .==1)"
   ]
  },
  {
   "cell_type": "code",
   "execution_count": null,
   "metadata": {
    "collapsed": true
   },
   "outputs": [],
   "source": []
  }
 ],
 "metadata": {
  "kernelspec": {
   "display_name": "Julia 0.5.2",
   "language": "julia",
   "name": "julia-0.5"
  },
  "language_info": {
   "file_extension": ".jl",
   "mimetype": "application/julia",
   "name": "julia",
   "version": "0.5.2"
  }
 },
 "nbformat": 4,
 "nbformat_minor": 2
}
