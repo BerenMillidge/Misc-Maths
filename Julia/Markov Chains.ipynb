{
 "cells": [
  {
   "cell_type": "code",
   "execution_count": null,
   "metadata": {
    "collapsed": true
   },
   "outputs": [],
   "source": [
    "#this is where we do markov chain exercises\n",
    "\n",
    "#we need a way to draw from discrete distributions so we do this\n",
    "\n",
    "using QuantEcon\n",
    "\n",
    "#just a qucik test\n",
    "psi = [0.1, 0.9]\n",
    "d = DiscreteRV(psi)\n",
    "rand(d,5)\n"
   ]
  }
 ],
 "metadata": {
  "kernelspec": {
   "display_name": "Julia 0.5.2",
   "language": "julia",
   "name": "julia-0.5"
  },
  "language_info": {
   "file_extension": ".jl",
   "mimetype": "application/julia",
   "name": "julia",
   "version": "0.5.2"
  }
 },
 "nbformat": 4,
 "nbformat_minor": 2
}
