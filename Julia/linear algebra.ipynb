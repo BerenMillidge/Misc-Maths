{
 "cells": [
  {
   "cell_type": "code",
   "execution_count": 1,
   "metadata": {},
   "outputs": [
    {
     "data": {
      "text/plain": [
       "3-element Array{Float64,1}:\n",
       " 1.0\n",
       " 1.0\n",
       " 1.0"
      ]
     },
     "execution_count": 1,
     "metadata": {},
     "output_type": "execute_result"
    }
   ],
   "source": [
    "x = ones(3)"
   ]
  },
  {
   "cell_type": "code",
   "execution_count": 2,
   "metadata": {},
   "outputs": [
    {
     "data": {
      "text/plain": [
       "1.7320508075688772"
      ]
     },
     "execution_count": 2,
     "metadata": {},
     "output_type": "execute_result"
    }
   ],
   "source": [
    "norm(x)"
   ]
  },
  {
   "cell_type": "code",
   "execution_count": 3,
   "metadata": {},
   "outputs": [
    {
     "data": {
      "text/plain": [
       "3×3 Array{Float64,2}:\n",
       " 1.0  0.0  0.0\n",
       " 0.0  1.0  0.0\n",
       " 0.0  0.0  1.0"
      ]
     },
     "execution_count": 3,
     "metadata": {},
     "output_type": "execute_result"
    }
   ],
   "source": [
    "A = eye(3)"
   ]
  },
  {
   "cell_type": "code",
   "execution_count": 7,
   "metadata": {},
   "outputs": [
    {
     "data": {
      "text/plain": [
       "2×2 Array{Float64,2}:\n",
       " 1.0  2.0\n",
       " 3.0  4.0"
      ]
     },
     "execution_count": 7,
     "metadata": {},
     "output_type": "execute_result"
    }
   ],
   "source": [
    "A = [1.0 2.0; 3.0 4.0]"
   ]
  },
  {
   "cell_type": "code",
   "execution_count": 8,
   "metadata": {},
   "outputs": [
    {
     "data": {
      "text/plain": [
       "-2.0"
      ]
     },
     "execution_count": 8,
     "metadata": {},
     "output_type": "execute_result"
    }
   ],
   "source": [
    "det(A)"
   ]
  },
  {
   "cell_type": "code",
   "execution_count": 9,
   "metadata": {},
   "outputs": [
    {
     "data": {
      "text/plain": [
       "2×2 Array{Float64,2}:\n",
       " -2.0   1.0\n",
       "  1.5  -0.5"
      ]
     },
     "execution_count": 9,
     "metadata": {},
     "output_type": "execute_result"
    }
   ],
   "source": [
    "Ainv = inv(A)"
   ]
  },
  {
   "cell_type": "code",
   "execution_count": 10,
   "metadata": {},
   "outputs": [
    {
     "data": {
      "text/plain": [
       "2×2 Array{Float64,2}:\n",
       " 1.0          0.0\n",
       " 8.88178e-16  1.0"
      ]
     },
     "execution_count": 10,
     "metadata": {},
     "output_type": "execute_result"
    }
   ],
   "source": [
    "A* Ainv"
   ]
  },
  {
   "cell_type": "code",
   "execution_count": 11,
   "metadata": {},
   "outputs": [
    {
     "data": {
      "text/plain": [
       "2×1 Array{Float64,2}:\n",
       " 1.0\n",
       " 1.0"
      ]
     },
     "execution_count": 11,
     "metadata": {},
     "output_type": "execute_result"
    }
   ],
   "source": [
    "y = ones(2,1)"
   ]
  },
  {
   "cell_type": "code",
   "execution_count": 13,
   "metadata": {},
   "outputs": [
    {
     "data": {
      "text/plain": [
       "2×1 Array{Float64,2}:\n",
       " -1.0\n",
       "  1.0"
      ]
     },
     "execution_count": 13,
     "metadata": {},
     "output_type": "execute_result"
    }
   ],
   "source": [
    "x = Ainv * y"
   ]
  },
  {
   "cell_type": "code",
   "execution_count": 14,
   "metadata": {},
   "outputs": [
    {
     "ename": "LoadError",
     "evalue": "DimensionMismatch(\"left hand side has 1 rows, but right hand side has 2 rows\")",
     "output_type": "error",
     "traceback": [
      "DimensionMismatch(\"left hand side has 1 rows, but right hand side has 2 rows\")",
      "",
      " in \\(::Base.LinAlg.QRPivoted{Float64,Array{Float64,2}}, ::Array{Float64,2}) at ./linalg/qr.jl:654",
      " in \\(::Array{Float64,2}, ::Array{Float64,2}) at ./linalg/generic.jl:363",
      " in /(::Array{Float64,2}, ::Array{Float64,2}) at ./linalg/generic.jl:367",
      " in include_string(::String, ::String) at ./loading.jl:441"
     ]
    }
   ],
   "source": [
    "x = A /y"
   ]
  },
  {
   "cell_type": "code",
   "execution_count": 15,
   "metadata": {},
   "outputs": [
    {
     "data": {
      "text/plain": [
       "([-0.372281,5.37228],\n",
       "[-0.824565 -0.415974; 0.565767 -0.909377])"
      ]
     },
     "execution_count": 15,
     "metadata": {},
     "output_type": "execute_result"
    }
   ],
   "source": [
    "evals, evecs = eig(A)"
   ]
  },
  {
   "cell_type": "code",
   "execution_count": 18,
   "metadata": {},
   "outputs": [
    {
     "data": {
      "text/plain": [
       "gram_schmidt (generic function with 1 method)"
      ]
     },
     "execution_count": 18,
     "metadata": {},
     "output_type": "execute_result"
    }
   ],
   "source": [
    "#here we try and miplement gram schmidt orthogonalisation for fun and testing\n",
    "\n",
    "#params: X - an nxk array with linearly idnependent columns\n",
    "#return U: an nxk array with orthonormal columns\n",
    "\n",
    "function gram_schmidt(X)\n",
    "    n,k = size(X)\n",
    "    #we create our array to put everything in\n",
    "    U = Array{Float64}(n,k)\n",
    "    I = eye(n)\n",
    "    \n",
    "    #first col of u is just normalised first col of x\n",
    "    v1 = X[:,1]\n",
    "    U[:,1] = v1/norm(v1)\n",
    "    \n",
    "    #okay, now we begin the proper loop\n",
    "    for i in 2:k\n",
    "        #set up\n",
    "        b = X[:i] #get the col we want\n",
    "        Z = X[:, 1:i-1] # te first i-1 columns of X - i.e. the ones we've already sorted\n",
    "        \n",
    "        #we project onto orthogonal complement of the col span of Z\n",
    "        M = I - Z *inv(Z' *Z)*Z' # this is the standard forumal\n",
    "        u = M*b\n",
    "        #and normalize\n",
    "        U[:,i] = u/norm(u)\n",
    "    end\n",
    "    return U\n",
    "end\n",
    "\n",
    "#not THAT difficult of a function. and it doesn't need any crazy numpy stuff to go \n",
    "# fast either,  don't think. so that's very good indeed.\n",
    "    \n",
    "    \n",
    "    \n",
    "    \n",
    "    \n",
    "    \n",
    "    \n",
    "    \n",
    "    "
   ]
  },
  {
   "cell_type": "code",
   "execution_count": 19,
   "metadata": {},
   "outputs": [
    {
     "ename": "LoadError",
     "evalue": "indexing Array{Int64,2} with types Tuple{Symbol} is not supported",
     "output_type": "error",
     "traceback": [
      "indexing Array{Int64,2} with types Tuple{Symbol} is not supported",
      "",
      " in gram_schmidt(::Array{Int64,2}) at ./In[18]:19",
      " in include_string(::String, ::String) at ./loading.jl:441"
     ]
    }
   ],
   "source": [
    "#now some testing\n",
    "y = [1 3 -3]'\n",
    "X = [1 0; 0 -6; 2 2]\n",
    "\n",
    "Py1 = X*inv(X'X)*X' *y\n",
    "\n",
    "#gram schmidt\n",
    "U = gram_schmidt(X)"
   ]
  },
  {
   "cell_type": "code",
   "execution_count": 20,
   "metadata": {},
   "outputs": [
    {
     "data": {
      "text/plain": [
       "(\n",
       "[-0.447214 -0.131876; 0.0 -0.989071; -0.894427 0.065938],\n",
       "\n",
       "[-2.23607 -1.78885; 0.0 6.0663])"
      ]
     },
     "execution_count": 20,
     "metadata": {},
     "output_type": "execute_result"
    }
   ],
   "source": [
    "Q, R = qr(X)"
   ]
  },
  {
   "cell_type": "code",
   "execution_count": null,
   "metadata": {
    "collapsed": true
   },
   "outputs": [],
   "source": []
  }
 ],
 "metadata": {
  "kernelspec": {
   "display_name": "Julia 0.5.2",
   "language": "julia",
   "name": "julia-0.5"
  },
  "language_info": {
   "file_extension": ".jl",
   "mimetype": "application/julia",
   "name": "julia",
   "version": "0.5.2"
  }
 },
 "nbformat": 4,
 "nbformat_minor": 2
}
